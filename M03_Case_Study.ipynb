{
 "cells": [
  {
   "cell_type": "code",
   "execution_count": 1,
   "id": "2dd21adf",
   "metadata": {},
   "outputs": [
    {
     "name": "stdout",
     "output_type": "stream",
     "text": [
      "What type of vehicle are you inputting?car\n",
      "What year is the vehicle?2022\n",
      "What make is the vehicle?Toyota\n",
      "What model is the vehicle?Corolla\n",
      "How many doors does it have?4\n",
      "What type of roof does it have?sun roof\n",
      "Vehicle type: car\n",
      "Year: 2022 \n",
      "Make: Toyota\n",
      "Model: Corolla \n",
      "Number of Doors: 4\n",
      "Type of roof: sun roof\n"
     ]
    }
   ],
   "source": [
    "class Vehicle:\n",
    "    \n",
    "    def __init__(self, vehicle_type):\n",
    "        \n",
    "        self.vehicle_type = vehicle_type\n",
    "\n",
    "class Automobile(Vehicle):\n",
    "    \n",
    "    def __init__(self, vehicle_type, year, make, model, doors, roof):\n",
    "        \n",
    "        self.vehicle_type = vehicle_type\n",
    "        self.year = year\n",
    "        self.make = make\n",
    "        self.model = model\n",
    "        self.doors = doors\n",
    "        self.roof = roof\n",
    "    \n",
    "    def __str__(self):\n",
    "        return(f\"Vehicle type: {self.vehicle_type}\\n\\\n",
    "Year: {self.year} \\nMake: {self.make}\\n\\\n",
    "Model: {self.model} \\nNumber of Doors: {self.doors}\\n\\\n",
    "Type of roof: {self.roof}\")\n",
    "def main():\n",
    "    car_input = Automobile(input(\"What type of vehicle are you inputting?\"),\\\n",
    "                       input(\"What year is the vehicle?\"),\\\n",
    "                       input(\"What make is the vehicle?\"),\\\n",
    "                       input(\"What model is the vehicle?\"),\\\n",
    "                       input(\"How many doors does it have?\"),\\\n",
    "                       input(\"What type of roof does it have?\"))\n",
    "    print(str(car_input))\n",
    "\n",
    "if __name__ == \"__main__\":\n",
    "    main()"
   ]
  },
  {
   "cell_type": "code",
   "execution_count": null,
   "id": "beef8a4b",
   "metadata": {},
   "outputs": [],
   "source": []
  }
 ],
 "metadata": {
  "kernelspec": {
   "display_name": "Python 3 (ipykernel)",
   "language": "python",
   "name": "python3"
  },
  "language_info": {
   "codemirror_mode": {
    "name": "ipython",
    "version": 3
   },
   "file_extension": ".py",
   "mimetype": "text/x-python",
   "name": "python",
   "nbconvert_exporter": "python",
   "pygments_lexer": "ipython3",
   "version": "3.9.13"
  }
 },
 "nbformat": 4,
 "nbformat_minor": 5
}
